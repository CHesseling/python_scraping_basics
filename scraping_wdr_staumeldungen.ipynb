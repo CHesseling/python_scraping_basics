{
 "cells": [
  {
   "cell_type": "code",
   "execution_count": 87,
   "metadata": {},
   "outputs": [],
   "source": [
    "import requests\n",
    "from bs4 import BeautifulSoup"
   ]
  },
  {
   "cell_type": "code",
   "execution_count": 3,
   "metadata": {},
   "outputs": [],
   "source": [
    "url = \"https://www1.wdr.de/verkehr/nrw/verkehrslage/verkehrslage162~_eam-d77e50fbb30c0bde1cd6d5d8e946a22b.html?eap=8oI34N4hym4RDV6dhKK0OoKFhY2OtqKgKJopQeJuwvRP7LdGW7EVznDA5679U78U%2FljASqmS416LRbIb%2FiuYHSZudbIprh5Hl9BmJmz2QecTtvU4YhxiN6cb4NB6AXCO2Q%2FpsiE8TCI%3D\""
   ]
  },
  {
   "cell_type": "code",
   "execution_count": 4,
   "metadata": {},
   "outputs": [],
   "source": [
    "abruf = requests.get(url)"
   ]
  },
  {
   "cell_type": "code",
   "execution_count": 5,
   "metadata": {},
   "outputs": [],
   "source": [
    "suppe = BeautifulSoup(abruf.content, \"lxml\")"
   ]
  },
  {
   "cell_type": "code",
   "execution_count": 88,
   "metadata": {},
   "outputs": [],
   "source": [
    "# print (suppe)"
   ]
  },
  {
   "cell_type": "code",
   "execution_count": 7,
   "metadata": {},
   "outputs": [],
   "source": [
    "stau = suppe.find(\"div\", {\"id\":\"status\"})"
   ]
  },
  {
   "cell_type": "code",
   "execution_count": 8,
   "metadata": {},
   "outputs": [
    {
     "name": "stdout",
     "output_type": "stream",
     "text": [
      "<div id=\"status\"><div class=\"status\"><span class=\"status-messages-total-extent\">28</span> km Stau,\n",
      "<span class=\"hidden-text-on-phone\">Stand:</span><span class=\"status-messages-updated-at\">\n",
      "13.31 Uhr\n",
      "</span><a class=\"status-refresh-link\" href=\"\">aktualisieren</a>\n",
      "</div>\n",
      "</div>\n"
     ]
    }
   ],
   "source": [
    "print (stau)"
   ]
  },
  {
   "cell_type": "code",
   "execution_count": 13,
   "metadata": {},
   "outputs": [],
   "source": [
    "km = stau.find(\"span\", {\"class\":\"status-messages-total-extent\"}).text"
   ]
  },
  {
   "cell_type": "code",
   "execution_count": 14,
   "metadata": {},
   "outputs": [
    {
     "name": "stdout",
     "output_type": "stream",
     "text": [
      "28\n"
     ]
    }
   ],
   "source": [
    "print (km)"
   ]
  },
  {
   "cell_type": "code",
   "execution_count": 12,
   "metadata": {},
   "outputs": [],
   "source": [
    "update = stau.find(\"span\", {\"class\":\"status-messages-updated-at\"}).text"
   ]
  },
  {
   "cell_type": "code",
   "execution_count": 23,
   "metadata": {},
   "outputs": [
    {
     "name": "stdout",
     "output_type": "stream",
     "text": [
      "\n",
      "13.31 Uhr\n",
      "\n"
     ]
    }
   ],
   "source": [
    "print (update)"
   ]
  },
  {
   "cell_type": "code",
   "execution_count": 20,
   "metadata": {},
   "outputs": [],
   "source": [
    "import datetime"
   ]
  },
  {
   "cell_type": "code",
   "execution_count": 37,
   "metadata": {},
   "outputs": [],
   "source": [
    "date = (datetime.datetime.now().date())\n",
    "time = (datetime.datetime.now().time())"
   ]
  },
  {
   "cell_type": "code",
   "execution_count": 67,
   "metadata": {},
   "outputs": [],
   "source": [
    "import csv\n",
    "\n",
    "daten = [[km, update, time, date]]\n",
    "\n",
    "datei = open(\"staumeldungen.csv\", \"a\")  \n",
    "          \n",
    "with datei:\n",
    "    writer = csv.writer(datei, delimiter=';')\n",
    "    writer.writerows(daten)"
   ]
  }
 ],
 "metadata": {
  "kernelspec": {
   "display_name": "Python 3",
   "language": "python",
   "name": "python3"
  },
  "language_info": {
   "codemirror_mode": {
    "name": "ipython",
    "version": 3
   },
   "file_extension": ".py",
   "mimetype": "text/x-python",
   "name": "python",
   "nbconvert_exporter": "python",
   "pygments_lexer": "ipython3",
   "version": "3.6.4"
  }
 },
 "nbformat": 4,
 "nbformat_minor": 2
}
