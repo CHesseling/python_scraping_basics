{
 "cells": [
  {
   "cell_type": "markdown",
   "metadata": {},
   "source": [
    "Dieses Python-Script soll Scraping an einem einfachen Beispiel verdeutlichen. Es durchsucht eine Liste an Webseiten nach einem bestimmten Suchbegriff."
   ]
  },
  {
   "cell_type": "markdown",
   "metadata": {},
   "source": [
    "Zunächst brauchen wir ein paar Bibliotheken.\n",
    "- Mit *requests* lassen sich Webseiten abrufen\n",
    "- *BeautifulSoup* ist eine mächtige Scraping-Bibliothek\n",
    "- *re* ist eine Bibliothek, mit der sich RegularExpressions und andere Text-Kommandos ausführen lassen."
   ]
  },
  {
   "cell_type": "code",
   "execution_count": 1,
   "metadata": {},
   "outputs": [],
   "source": [
    "import requests\n",
    "from bs4 import BeautifulSoup\n",
    "import re"
   ]
  },
  {
   "cell_type": "markdown",
   "metadata": {},
   "source": [
    "Als nächstes fragen wir den Suchbegriff ab. Benutzer können ihr Suchwort eingeben (input) - das wird dann in der Variable eingabe_begriff gespeichert. Anschließend wird das Ganze rekompiliert - das löst Probleme mit Umlauten usw.\n"
   ]
  },
  {
   "cell_type": "code",
   "execution_count": 2,
   "metadata": {},
   "outputs": [
    {
     "name": "stdout",
     "output_type": "stream",
     "text": [
      "Was soll ich suchen? Seehofer\n"
     ]
    }
   ],
   "source": [
    "eingabe_begriff = input(\"Was soll ich suchen? \" )\n",
    "suchbegriff = re.compile(eingabe_begriff)"
   ]
  },
  {
   "cell_type": "markdown",
   "metadata": {},
   "source": [
    "Welche Webseiten sollen durchsucht werden? <br> Diese Liste lässt sich beliebig erweitern."
   ]
  },
  {
   "cell_type": "code",
   "execution_count": 3,
   "metadata": {},
   "outputs": [],
   "source": [
    "list_of_websites = [\n",
    "    \"http://www.tagesschau.de\",\n",
    "    \"http://www.spiegel.de\"\n",
    "]"
   ]
  },
  {
   "cell_type": "markdown",
   "metadata": {},
   "source": [
    "Das ist das \"Hauptprogramm\":\n",
    "Die Schleife durchsucht die Webseiten-List. Für jeden Schleifendurchgang wird der Wert in der Variable \"seite\" gespeichert."
   ]
  },
  {
   "cell_type": "code",
   "execution_count": 4,
   "metadata": {},
   "outputs": [
    {
     "name": "stdout",
     "output_type": "stream",
     "text": [
      "\n",
      "\n",
      " Seehofer wurde 4  Mal auf http://www.tagesschau.de gefunden\n",
      "\n",
      "\n",
      "Seehofers \"Masterplan\" \n",
      "\n",
      "Seinen \"Masterplan\" hat Innenminister Seehofer bei der CSU vorgestellt. Erstellt wurde er aber im Innenministerium. SPD und Grüne vermuten daher, dieser Vorgang verstoße gegen das Parteiengesetz.  \n",
      "\n",
      "Merkel und Seehofer: Jahrelanges Kräftemessen, 02.07.2018 \n",
      "\n",
      "Seehofers \"Masterplan\": Verstoß gegen das Parteiengesetz? \n",
      "\n",
      "#----------------#\n",
      "\n",
      "\n",
      " Seehofer wurde 14  Mal auf http://www.spiegel.de gefunden\n",
      "\n",
      "\n",
      "Seehofers Strategie \n",
      "\n",
      "\n",
      "\t\t\t\"Ich bin Schachspieler, die anderen spielen alle nur Mühle\": Horst Seehofer hat eine Regierungskrise ausgelöst, Angela Merkels Kanzlerschaft beschädigt und die CSU verunsichert. Warum macht er das?  \n",
      "\n",
      "Seehofer verkündet Einigung mit Merkel: \n",
      "\n",
      "\n",
      "\t\t\tTransitzentren - darauf haben sich Seehofer und Merkel geeinigt. Und die SPD? Als vor drei Jahren zuletzt darüber diskutiert wurde, war sie dagegen. Wie vehement, zeigen diese 14 Aussagen.  \n",
      "\n",
      "Seehofer: \n",
      "\n",
      "Seehofer verkündet Einigung mit Merkel:  \n",
      "\n",
      "Seehofer-Analyse:  \n",
      "\n",
      "Seehofer verstehen \n",
      "\n",
      "Tragödie oder Farce? Horst Seehofer kämpft um die Zukunft der CSU. Aber für die Korrektur des größten Fehlers der Vergangenheit ist es zu spät. \n",
      "\n",
      "Horst Seehofers Rücktrittsdrohung: \n",
      "\n",
      "Im CSU-Vorstand wies Seehofer späteren Asylkompromiss noch zurück \n",
      "\n",
      "Horst Seehofer reklamiert den Asylkompromiss mit der CDU als großen Erfolg. Dabei bügelte der CSU-Chef den gleichen Vorschlag eines Parteifreundes nach SPIEGEL-Informationen noch am Sonntag ab.  \n",
      "\n",
      "CDU-Attacke gegen Seehofer: \n",
      "\n",
      "Diese 11 Tweets beschreiben perfekt, was gerade viele über Seehofer denken \n",
      "\n",
      "#----------------#\n"
     ]
    }
   ],
   "source": [
    "for seite in list_of_websites:\n",
    "    r = requests.get(seite) #Die aktuelle Seite wird abgerufen\n",
    "    soup = BeautifulSoup(r.content, \"lxml\") #Sie wird in ein BeautifulSoup-Objekt umgewandelt\n",
    "    teaser = soup.find_all(string=suchbegriff) #Das Objekt wird durchsucht und die Ergebnisse werden in eine Liste gespeichert\n",
    "    \n",
    "    if not teaser: #Falls \"teaser\" leer ist wird die folgende Meldung ausgegeben\n",
    "        print (eingabe_begriff, \"wird nicht auf\", seite,\"gefunden\")\n",
    "    else:\n",
    "        count = (len(teaser)) # Wieviele Suchergebnisse gibt es? Mit \"len\" kann man die Länge der Liste bestimmen\n",
    "        print (\"\\n\\n\", eingabe_begriff, \"wurde\", count, \" Mal auf\", seite, \"gefunden\\n\\n\")\n",
    "        for einzel_teaser in teaser: #Die Liste der Teaser wird ausgegeben\n",
    "            print (einzel_teaser,\"\\n\")\n",
    "        print(\"#----------------#\")"
   ]
  }
 ],
 "metadata": {
  "kernelspec": {
   "display_name": "Python 3",
   "language": "python",
   "name": "python3"
  },
  "language_info": {
   "codemirror_mode": {
    "name": "ipython",
    "version": 3
   },
   "file_extension": ".py",
   "mimetype": "text/x-python",
   "name": "python",
   "nbconvert_exporter": "python",
   "pygments_lexer": "ipython3",
   "version": "3.6.4"
  }
 },
 "nbformat": 4,
 "nbformat_minor": 2
}
